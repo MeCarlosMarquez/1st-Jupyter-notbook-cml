{
    "cells": [
        {
            "metadata": {
                "collapsed": true
            },
            "cell_type": "markdown",
            "source": "# My Jupyter Notebook on IBM Data Science Experience"
        },
        {
            "metadata": {},
            "cell_type": "markdown",
            "source": "**Carlos**  \nSupply chain analyst"
        },
        {
            "metadata": {},
            "cell_type": "markdown",
            "source": "*Data science is a field of study that any engineer needs to know thinking in the industry 4.0*"
        },
        {
            "metadata": {},
            "cell_type": "markdown",
            "source": "### the next code should calculate the Napierian logarithm of 3 , wich is Naplog(3)"
        },
        {
            "metadata": {
                "scrolled": true
            },
            "cell_type": "code",
            "source": "from numpy.lib.scimath import logn\nfrom math import e\n\n#using: x - var\nlogn(e, 3)",
            "execution_count": 3,
            "outputs": [
                {
                    "output_type": "execute_result",
                    "execution_count": 3,
                    "data": {
                        "text/plain": "1.0986122886681098"
                    },
                    "metadata": {}
                }
            ]
        },
        {
            "metadata": {},
            "cell_type": "markdown",
            "source": "Natural Logarithm Table\n\n|No  |  Log(base 10)  |  No\n|--- | --- | ---\n|1.000\t|  0.00000000  |  2.00\n|1.001  |  0.00043408  |  2.01\n|1.002  |  0.00086772  |  2.02\n|1.003\t|  0.00130093  |  2.03\n\nNatural Logarithm:\n![logo](https://github.com/MeCarlosMarquez/Image-assigment/blob/master/Natural_Logarithm_Re.svg.png?raw=true)\n\n> This is not an email"
        }
    ],
    "metadata": {
        "kernelspec": {
            "name": "python3",
            "display_name": "Python 3.6",
            "language": "python"
        },
        "language_info": {
            "name": "python",
            "version": "3.6.9",
            "mimetype": "text/x-python",
            "codemirror_mode": {
                "name": "ipython",
                "version": 3
            },
            "pygments_lexer": "ipython3",
            "nbconvert_exporter": "python",
            "file_extension": ".py"
        }
    },
    "nbformat": 4,
    "nbformat_minor": 1
}